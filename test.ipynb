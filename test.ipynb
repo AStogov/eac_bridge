{
 "cells": [
  {
   "cell_type": "code",
   "execution_count": 1,
   "metadata": {},
   "outputs": [],
   "source": [
    "import json\n",
    "fn = \"trade_data_2013.json\"\n",
    "with open(fn, 'r', encoding='utf-8') as f:\n",
    "    data = json.load(f)\n",
    "countries = [i[0] for i in data]\n",
    "trade = [tuple(i) for i in data]\n",
    "cost = [i[1] for i in data]\n",
    "rela = []\n",
    "for i in data:\n",
    "    if i[1] > 0:\n",
    "        rela.append((\"中国\",i[0]))"
   ]
  },
  {
   "cell_type": "code",
   "execution_count": 2,
   "metadata": {},
   "outputs": [
    {
     "data": {
      "text/plain": [
       "'/home/seok/contest/1.html'"
      ]
     },
     "execution_count": 2,
     "metadata": {},
     "output_type": "execute_result"
    }
   ],
   "source": [
    "from pyecharts import options as opts\n",
    "from pyecharts.charts import Map, Geo\n",
    "from pyecharts.globals import ChartType, SymbolType\n",
    "c = (\n",
    "    Geo()\n",
    "    .add_schema(maptype=\"world\")\n",
    "    .add(\n",
    "        \"\",\n",
    "        trade,\n",
    "        type_=ChartType.EFFECT_SCATTER\n",
    "    )\n",
    "    .add(\n",
    "        \"Trade Between China and Other Countries\",\n",
    "        rela,\n",
    "        type_=ChartType.LINES,\n",
    "        effect_opts=opts.EffectOpts(\n",
    "            symbol=SymbolType.ARROW, symbol_size=5, color=\"red\"\n",
    "        ),\n",
    "        linestyle_opts=opts.LineStyleOpts(curve=0.2, color='gold'),\n",
    "    )\n",
    "    .set_series_opts(label_opts=opts.LabelOpts(is_show=False))\n",
    "    .set_global_opts(visualmap_opts=opts.VisualMapOpts(max_=max(cost)),title_opts=opts.TitleOpts(title=\"Geo-Lines\"))\n",
    ")\n",
    "c.render(\"1.html\")\n"
   ]
  }
 ],
 "metadata": {
  "interpreter": {
   "hash": "4ce0e62306dd6a5716965d4519ada776f947e6dfc145b604b11307c10277ef29"
  },
  "kernelspec": {
   "display_name": "Python 3.10.2 64-bit",
   "language": "python",
   "name": "python3"
  },
  "language_info": {
   "codemirror_mode": {
    "name": "ipython",
    "version": 3
   },
   "file_extension": ".py",
   "mimetype": "text/x-python",
   "name": "python",
   "nbconvert_exporter": "python",
   "pygments_lexer": "ipython3",
   "version": "3.10.4"
  },
  "orig_nbformat": 4
 },
 "nbformat": 4,
 "nbformat_minor": 2
}
