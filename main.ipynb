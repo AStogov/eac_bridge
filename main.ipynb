{
 "cells": [
  {
   "cell_type": "code",
   "execution_count": 2,
   "metadata": {},
   "outputs": [],
   "source": [
    "import pandas as pd\n",
    "import json\n",
    "import numpy as np\n",
    "from pyecharts import options as opts\n",
    "from pyecharts.charts import Geo\n",
    "from pyecharts.globals import ChartType, SymbolType"
   ]
  },
  {
   "cell_type": "code",
   "execution_count": 22,
   "metadata": {},
   "outputs": [],
   "source": [
    "fn = 'data/一带一路相关数据/双边贸易.json'\n",
    "with open(fn, 'r', encoding=\"utf-8\") as f:\n",
    "    trade = json.load(f)\n",
    "trade = trade['total']\n",
    "# print(trade)\n",
    "_ = {}\n",
    "year = 2013\n",
    "for i in trade:\n",
    "    _[str(year)] = []\n",
    "    for k, v in i.items():\n",
    "        if k != 'date':\n",
    "            if v != '':\n",
    "                _[str(year)].append((k, int(v)))\n",
    "            else:\n",
    "                _[str(year)].append((k, 0))\n",
    "    year += 1\n",
    "for i in range(2013, 2021):\n",
    "    fn = 'trade_data_' + str(i) + '.json'\n",
    "    with open(fn, 'w', encoding='utf-8') as f:\n",
    "        json.dump(_[str(i)], f)\n"
   ]
  }
 ],
 "metadata": {
  "interpreter": {
   "hash": "4ce0e62306dd6a5716965d4519ada776f947e6dfc145b604b11307c10277ef29"
  },
  "kernelspec": {
   "display_name": "Python 3.10.2 64-bit",
   "language": "python",
   "name": "python3"
  },
  "language_info": {
   "codemirror_mode": {
    "name": "ipython",
    "version": 3
   },
   "file_extension": ".py",
   "mimetype": "text/x-python",
   "name": "python",
   "nbconvert_exporter": "python",
   "pygments_lexer": "ipython3",
   "version": "3.10.4"
  },
  "orig_nbformat": 4
 },
 "nbformat": 4,
 "nbformat_minor": 2
}
